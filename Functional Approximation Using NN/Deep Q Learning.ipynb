{
 "cells": [
  {
   "cell_type": "markdown",
   "metadata": {},
   "source": [
    "# I. Overview\n",
    "\n",
    "Describe the objective of this assignment. You can briefly state how you accompilsh it."
   ]
  },
  {
   "cell_type": "markdown",
   "metadata": {},
   "source": [
    "# II. Maze Problem\n",
    "\n",
    "Describe the problem. Read the following code and explain the GridWorld environment. "
   ]
  },
  {
   "cell_type": "code",
   "execution_count": 1,
   "metadata": {
    "collapsed": true
   },
   "outputs": [],
   "source": [
    "import math\n",
    "import collections\n",
    "import numpy as np\n",
    "import matplotlib.pyplot as plt\n",
    "from mpl_toolkits.mplot3d import Axes3D\n",
    "%matplotlib inline\n",
    "\n",
    "np.random.seed(1)"
   ]
  },
  {
   "cell_type": "markdown",
   "metadata": {},
   "source": [
    "## Sample Grid Environment File\n",
    "\n",
    "Simple text file with three characters, 'O', 'H', and 'G'.\n",
    "- 'O': open space\n",
    "- 'H': Wall or obstacles\n",
    "- 'G': Goal location "
   ]
  },
  {
   "cell_type": "code",
   "execution_count": 2,
   "metadata": {},
   "outputs": [
    {
     "name": "stdout",
     "output_type": "stream",
     "text": [
      "OOOHOOOOO\n",
      "OOOHOOHOO\n",
      "OOOOOOHOO\n",
      "OOOOHHHOO\n",
      "OOHOOOOOH\n",
      "OOHOOGOOO\n",
      "OOOOOOOOO\n"
     ]
    }
   ],
   "source": [
    "file = open(\"grid.txt\", \"r\")\n",
    "data = file.read()\n",
    "print(data)"
   ]
  },
  {
   "cell_type": "code",
   "execution_count": 3,
   "metadata": {
    "collapsed": true
   },
   "outputs": [],
   "source": [
    "# maze example\n",
    "\n",
    "debug = False\n",
    "verbose = False\n",
    "\n",
    "\n",
    "class GridWorld:\n",
    "    \"\"\" Grid World environment\n",
    "            there are four actions (left, right, up, and down) to move an agent\n",
    "            In a grid, if it reaches a goal, it get 30 points of reward.\n",
    "            If it falls in a hole or moves out of the grid world, it gets -5.\n",
    "            Each step costs -1 point. \n",
    "\n",
    "        to test GridWorld, run the following sample codes:\n",
    "\n",
    "            env = GridWorld('grid.txt')\n",
    "\n",
    "            env.print_map()\n",
    "            print [2,3], env.check_state([2,3])\n",
    "            print [0,0], env.check_state([0,0])\n",
    "            print [3,4], env.check_state([3,4])\n",
    "            print [10,3], env.check_state([10,3])\n",
    "\n",
    "            env.init([0,0])\n",
    "            print env.next(1)  # right\n",
    "            print env.next(3)  # down\n",
    "            print env.next(0)  # left\n",
    "            print env.next(2)  # up\n",
    "            print env.next(2)  # up\n",
    "            \n",
    "            my change\n",
    "            ---------\n",
    "            \n",
    "            print env.next(0)  # left\n",
    "            print env.next(1)  # right\n",
    "            print env.next(2)  # up\n",
    "            print env.next(3)  # down\n",
    "\n",
    "        Parameters\n",
    "        ==========\n",
    "        _map        ndarray\n",
    "                    string array read from a file input\n",
    "        _size       1d array\n",
    "                    the size of _map in ndarray\n",
    "        goal_pos    tuple\n",
    "                    the index for the goal location\n",
    "        _actions    list\n",
    "                    list of actions for 4 actions\n",
    "        _s          1d array\n",
    "                    current state\n",
    "    \"\"\"\n",
    "    def __init__(self, fn):\n",
    "        # read a map from a file\n",
    "        self._map = self.read_map(fn)\n",
    "        self._size = np.asarray(self._map.shape)\n",
    "        self.goal_pos = np.where(self._map == 'G')\n",
    "\n",
    "        # definition of actions (left, right, up, and down repectively)\n",
    "        self._actions = [[0, -1], [0, 1], [-1, 0], [1, 0]]\n",
    "        self._s = None\n",
    "\n",
    "    def get_cur_state(self):\n",
    "        return self._s\n",
    "\n",
    "    def set_cur_state(self,s):\n",
    "        self._s=s\n",
    "    \n",
    "    def get_size(self):\n",
    "        return self._size\n",
    "\n",
    "    def read_map(self, fn):\n",
    "        grid = []\n",
    "        with open(fn) as f:\n",
    "            for line in f:\n",
    "               grid.append(list(line.strip()))\n",
    "        return np.asarray(grid)\n",
    "\n",
    "    def print_map(self):\n",
    "        print( self._map )\n",
    "    \n",
    "    def get_map(self):\n",
    "        return self._map \n",
    "        \n",
    "    def check_state(self, s):\n",
    "        if isinstance(s, collections.Iterable) and len(s) == 2:\n",
    "            if s[0] < 0 or s[1] < 0 or\\\n",
    "               s[0] >= self._size[0] or s[1] >= self._size[1]:\n",
    "               return 'N'\n",
    "            return self._map[tuple(s)].upper()\n",
    "        else:\n",
    "            return 'F'  # wrong input\n",
    "\n",
    "    def init(self, state=None):\n",
    "        if state is None:\n",
    "            s = [0, 0]\n",
    "        else:\n",
    "            s = state\n",
    "            \n",
    "        if self.check_state(s) == 'O':\n",
    "            #self._s = np.asarray(state)\n",
    "            self._s = np.asarray(s)\n",
    "        else:\n",
    "            raise ValueError(\"Invalid state for init\")\n",
    "        \n",
    "\n",
    "    def next(self, a):\n",
    "        s1 = self._s + self._actions[a]\n",
    "        # state transition\n",
    "        curr = self.check_state(s1)\n",
    "        \n",
    "        if curr == 'H' or curr == 'N':\n",
    "            return -5\n",
    "        elif curr == 'F':\n",
    "            warnings.warn(\"invalid state \" + str(s1))\n",
    "            return -5\n",
    "        elif curr == 'G':\n",
    "            self._s = s1\n",
    "            return 30\n",
    "        else:\n",
    "            self._s = s1\n",
    "            return -1\n",
    "        \n",
    "    #Method to check if the current state is a goal state\n",
    "    def goal_reached(self):\n",
    "        if(self._s is not None and self._s[0]==self.goal_pos[0] and self._s[1]==self.goal_pos[1]):\n",
    "            return True\n",
    "        else:\n",
    "            return False\n",
    "    \n",
    "    #Method to check if a state is a goal state\n",
    "    def is_goal(self,s):\n",
    "        if(s is not None and s[0]==self.goal_pos[0] and s[1]==self.goal_pos[1]):\n",
    "            return True\n",
    "        else:\n",
    "            return False\n",
    "        \n",
    "    def get_actions(self):\n",
    "        return self._actions"
   ]
  },
  {
   "cell_type": "code",
   "execution_count": 4,
   "metadata": {},
   "outputs": [
    {
     "name": "stdout",
     "output_type": "stream",
     "text": [
      "[['O' 'O' 'O' 'H' 'O' 'O' 'O' 'O' 'O']\n",
      " ['O' 'O' 'O' 'H' 'O' 'O' 'H' 'O' 'O']\n",
      " ['O' 'O' 'O' 'O' 'O' 'O' 'H' 'O' 'O']\n",
      " ['O' 'O' 'O' 'O' 'H' 'H' 'H' 'O' 'O']\n",
      " ['O' 'O' 'H' 'O' 'O' 'O' 'O' 'O' 'H']\n",
      " ['O' 'O' 'H' 'O' 'O' 'G' 'O' 'O' 'O']\n",
      " ['O' 'O' 'O' 'O' 'O' 'O' 'O' 'O' 'O']]\n"
     ]
    }
   ],
   "source": [
    "env = GridWorld(\"grid.txt\")\n",
    "env.print_map()"
   ]
  },
  {
   "cell_type": "markdown",
   "metadata": {},
   "source": [
    "# III. Methods"
   ]
  },
  {
   "cell_type": "code",
   "execution_count": 5,
   "metadata": {
    "collapsed": true
   },
   "outputs": [],
   "source": [
    "#This method will return true only with a given probaility \n",
    "import random\n",
    "def selectRandomAction(epsilon):\n",
    "    return random.random()<epsilon\n",
    "\n",
    "#Method to choose action from a state s using the estimated Q values wit epsilon-greedy\n",
    "def epsilon_greedy_action(QValues,epsilon=0.01):\n",
    "    greedy_action=None\n",
    "    \n",
    "    maxQ=np.max(QValues)\n",
    "    \n",
    "    eqaualMax=np.where(QValues == maxQ)[1]\n",
    "    action=np.random.choice(eqaualMax)\n",
    "    \n",
    "    if(selectRandomAction(epsilon)):\n",
    "        random_action=np.random.randint(4)\n",
    "        action=random_action\n",
    "        maxQ=QValues[0,action]\n",
    "    \n",
    "    return maxQ,action"
   ]
  },
  {
   "cell_type": "markdown",
   "metadata": {},
   "source": [
    "### Learning Model"
   ]
  },
  {
   "cell_type": "code",
   "execution_count": 6,
   "metadata": {},
   "outputs": [
    {
     "name": "stderr",
     "output_type": "stream",
     "text": [
      "Using TensorFlow backend.\n"
     ]
    }
   ],
   "source": [
    "#import the keras library\n",
    "from keras.models import Sequential\n",
    "from keras.layers import Dense\n",
    "\n",
    "from sklearn.metrics import accuracy_score"
   ]
  },
  {
   "cell_type": "code",
   "execution_count": 7,
   "metadata": {
    "collapsed": true
   },
   "outputs": [],
   "source": [
    "class NNModel:\n",
    "    def __init__(self):\n",
    "        no_of_input_nodes=2\n",
    "        no_of_hl1_nodes=20\n",
    "        no_of_hl2_nodes=20\n",
    "        no_of_hl3_nodes=10\n",
    "        no_of_output_nodes=4\n",
    "        \n",
    "        self.model=Sequential([\n",
    "            Dense(input_dim=no_of_input_nodes,units=no_of_hl1_nodes,activation=\"relu\"),\n",
    "            Dense(input_dim=no_of_hl1_nodes,units=no_of_hl2_nodes,activation=\"relu\"),\n",
    "            Dense(input_dim=no_of_hl2_nodes,units=no_of_hl3_nodes,activation=\"relu\"),\n",
    "            Dense(input_dim=no_of_hl3_nodes,units=no_of_output_nodes)\n",
    "        ])\n",
    "        self.model.compile(loss='mean_squared_error',optimizer='adam')\n",
    "        \n",
    "    def train(self,state,Qvalues):\n",
    "        X=state.copy()\n",
    "        Y=Qvalues.copy()\n",
    "        X[0,0]=X[0,0]+1\n",
    "        X[0,1]=X[0,1]+1\n",
    "        self.model.fit(X,Y,verbose=False)\n",
    "        \n",
    "    def predict(self,state):\n",
    "        X=state.copy()\n",
    "        X[0,0]=X[0,0]+1\n",
    "        X[0,1]=X[0,1]+1\n",
    "        return self.model.predict(X)"
   ]
  },
  {
   "cell_type": "markdown",
   "metadata": {},
   "source": [
    "### Neural Network learning"
   ]
  },
  {
   "cell_type": "code",
   "execution_count": 8,
   "metadata": {
    "collapsed": true
   },
   "outputs": [],
   "source": [
    "import matplotlib.pyplot as plt\n",
    "%matplotlib inline\n",
    "#A method to learn best way to find the goal\n",
    "def learn_find_goal(env,learning_model,epsilon,gamma,epoch):\n",
    "    steps=1;\n",
    "    states=[]\n",
    "    total_reward=0\n",
    "    current_state=env.get_cur_state()\n",
    "    X=np.asarray(current_state).reshape((1,2))\n",
    "    current_state_actions_QValues=learning_model.predict(X)\n",
    "    current_state_maxQ,current_state_a=epsilon_greedy_action(current_state_actions_QValues)\n",
    "    #Add the current state to the path\n",
    "    while(not env.goal_reached()):\n",
    "        states.append(current_state)\n",
    "        reward=env.next(current_state_a)\n",
    "        next_state=env.get_cur_state()\n",
    "        \n",
    "        #if the next state is the goal state\n",
    "        X_next_state=np.asarray(next_state).reshape((1,2))\n",
    "        #get the Q values for the next state action pairs\n",
    "        next_state_actions_QValues=learning_model.predict(X_next_state)\n",
    "        next_state_maxQ,next_state_a=epsilon_greedy_action(next_state_actions_QValues)\n",
    "        \n",
    "        #print(current_state,\"\\t\",current_state_a,\"\\t\",reward,\"\\t\",next_state,\"\\t\",next_state_a,\"\\t\",\n",
    "        #      current_state_actions_QValues,\"\\t\",next_state_actions_QValues)\n",
    "        \n",
    "        if(env.is_goal(next_state)):\n",
    "            next_state_maxQ=0\n",
    "            \n",
    "        true_Q=reward+gamma*next_state_maxQ\n",
    "        #update the current state q values for this action to train neural network\n",
    "        current_state_actions_QValues[0,current_state_a]=true_Q\n",
    "        \n",
    "        X_current_state=np.asarray(current_state).reshape((1,2))\n",
    "        Y_current_state=np.asarray(current_state_actions_QValues).reshape((1,4))\n",
    "        #fit the model using this new Q value for the current state\n",
    "        learning_model.train(X_current_state,Y_current_state)\n",
    "        \n",
    "        #update the state action pair and Q values of the next state actions\n",
    "        current_state=next_state\n",
    "        current_state_a=next_state_a\n",
    "        current_state_actions_QValues=learning_model.predict(X_next_state)\n",
    "        \n",
    "        total_reward+=reward\n",
    "        steps=steps+1\n",
    "        \n",
    "    #train for the goal state\n",
    "    X_current_state=np.asarray(current_state).reshape((1,2))\n",
    "    current_state_actions_QValues=np.asarray([0,0,0,0]).reshape(1,4)\n",
    "    learning_model.train(X_current_state,current_state_actions_QValues)\n",
    "    \n",
    "    states.append(env._s)\n",
    "    return states,total_reward"
   ]
  },
  {
   "cell_type": "markdown",
   "metadata": {},
   "source": [
    "## Training the agent"
   ]
  },
  {
   "cell_type": "code",
   "execution_count": 9,
   "metadata": {},
   "outputs": [
    {
     "name": "stdout",
     "output_type": "stream",
     "text": [
      "Learning\n",
      "Epoch Completed: 1  - Last 50 Epoch Took 15248.6 ms, epsilon=0.01\n",
      "Epoch Completed: 50  - Last 50 Epoch Took 26774.58 ms, epsilon=0.006111172395328654\n",
      "Epoch Completed: 100  - Last 50 Epoch Took 712.53 ms, epsilon=0.0036972963764972683\n"
     ]
    }
   ],
   "source": [
    "import time\n",
    "np.random.seed(11)\n",
    "#initialize the Q's for each state\n",
    "learning_model=NNModel()\n",
    "Q=np.zeros((env._size[0],env._size[1]))\n",
    "env.init()\n",
    "epoch_limit=100\n",
    "gamma=0.9\n",
    "epsilon=0.01;\n",
    "print(\"Learning\")\n",
    "rewards=[]\n",
    "steps=np.zeros([epoch_limit+1,1])\n",
    "initial_state=[0,0]\n",
    "start_time=time.clock()\n",
    "for epoch in range(1,epoch_limit+1):\n",
    "    env.init(initial_state)\n",
    "    states_reward=learn_find_goal(env,learning_model,epsilon,gamma,epoch) #returns states and reward \n",
    "    states=states_reward[0]\n",
    "    rewards.append(states_reward[1])\n",
    "    steps[epoch]=len(states)\n",
    "    if(epoch==1 or epoch%50==0 or epoch==epoch_limit):\n",
    "        end_time=time.clock()\n",
    "        print(\"Epoch Completed:\",epoch,\" - Last 50 Epoch Took\",str(round((end_time-start_time)*1000,2)),\"ms, epsilon=\"+str(epsilon))\n",
    "        start_time=time.clock()\n",
    "        \n",
    "    epsilon=epsilon-0.01*epsilon\n",
    "\n",
    "map=env._map\n",
    "Q=np.zeros(map.shape)\n",
    "for i in range(map.shape[0]):\n",
    "    for j in range(map.shape[1]):\n",
    "        state=np.asarray([i,j]).reshape((1,2))\n",
    "        Q[i][j]=np.max(learning_model.predict(state))"
   ]
  },
  {
   "cell_type": "code",
   "execution_count": null,
   "metadata": {
    "collapsed": true
   },
   "outputs": [],
   "source": []
  },
  {
   "cell_type": "markdown",
   "metadata": {},
   "source": [
    "# IV - Results\n",
    "\n",
    "- Describe the choice of your parameters for $\\gamma$, $\\alpha$, and $\\epsilon$. \n",
    "  - Run experiments to find good parameters\n",
    "  - Show the experimental outputs to show the process of your selection\n",
    "- Plot 4 plots (see the image): \n",
    "  - the sum of rewards per episode\n",
    "  - the number of steps per episode\n",
    "  - contour plot of Q \n",
    "  - the trajectory of solution by using the learned policy"
   ]
  },
  {
   "cell_type": "markdown",
   "metadata": {},
   "source": [
    "$\\gamma$: Kept the discounting factor high so that taking steps are not that penalized.<br>\n",
    "$\\epsilon$: Keep reducing the epsilon after each epoch so that as the agent becomes more confidence about the environment it follows chooses the best path mostly rather then trying random path."
   ]
  },
  {
   "cell_type": "code",
   "execution_count": 10,
   "metadata": {},
   "outputs": [
    {
     "data": {
      "image/png": "[encoded data removed]",
      "text/plain": [
       "<matplotlib.figure.Figure at 0x2e2b53b4da0>"
      ]
     },
     "metadata": {},
     "output_type": "display_data"
    }
   ],
   "source": [
    "def plot_data(states,rewards,Q,steps):\n",
    "    x=[]\n",
    "    y=[]\n",
    "    z=[]\n",
    "    state_count=0\n",
    "    for state in states:\n",
    "        x.append(state[0])\n",
    "        y.append(state[1])\n",
    "        z.append(state_count)\n",
    "        state_count=state_count+1\n",
    "    \n",
    "   \n",
    "    f, ((ax1, ax2),(ax3,ax4))=plt.subplots(2, 2,figsize=(20,20))\n",
    "    \n",
    "    ax1.plot(rewards,marker='', color='blue')\n",
    "    ax1.set_title(\"Sum of rewards vs Epochs\")\n",
    "    \n",
    "    ax2.plot(steps,marker='', color='#1658a0')\n",
    "    ax2.set_title(\"Steps vs Epochs\")\n",
    "    \n",
    "    heatmap =ax3.imshow(Q, cmap='hot', interpolation='nearest')\n",
    "    ax3.set_title(\"Q values\")\n",
    "    ax3.grid(False)\n",
    "    \n",
    "    f.colorbar(heatmap,ax=ax3)\n",
    "    \n",
    "    ax4.plot(x,y,marker='o', color='black')\n",
    "    ax4.grid(True)\n",
    "    ax4.axis([0, 8, 6, 0])\n",
    "    title=\"Path to the goal(Total Steps=\"+str(len(states))+\")\"\n",
    "    ax4.set_title(title)\n",
    "    \n",
    "plot_data(states,rewards,Q,steps)"
   ]
  },
  {
   "cell_type": "code",
   "execution_count": null,
   "metadata": {
    "collapsed": true
   },
   "outputs": [],
   "source": []
  }
 ],
 "metadata": {
  "kernelspec": {
   "display_name": "ds36",
   "language": "python",
   "name": "ds36"
  },
  "language_info": {
   "codemirror_mode": {
    "name": "ipython",
    "version": 3
   },
   "file_extension": ".py",
   "mimetype": "text/x-python",
   "name": "python",
   "nbconvert_exporter": "python",
   "pygments_lexer": "ipython3",
   "version": "3.6.3"
  }
 },
 "nbformat": 4,
 "nbformat_minor": 2
}
