{
 "cells": [
  {
   "cell_type": "markdown",
   "metadata": {},
   "source": [
    "# Assignment #4 - Reinforcement Learning\n",
    "\n",
    "### <font color=\"red\"> DUE: November 7 (Tuesday) 11:00 pm </font>  "
   ]
  },
  {
   "cell_type": "markdown",
   "metadata": {},
   "source": [
    "<font color=\"blue\"> Jeet </font>"
   ]
  },
  {
   "cell_type": "markdown",
   "metadata": {},
   "source": [
    "# I. Overview\n",
    "\n",
    "Describe the objective of this assignment. You can briefly state how you accompilsh it."
   ]
  },
  {
   "cell_type": "markdown",
   "metadata": {},
   "source": [
    "# II. Maze Problem\n",
    "\n",
    "Describe the problem. Read the following code and explain the GridWorld environment. "
   ]
  },
  {
   "cell_type": "code",
   "execution_count": 3,
   "metadata": {
    "collapsed": true
   },
   "outputs": [],
   "source": [
    "import math\n",
    "import collections\n",
    "import numpy as np\n",
    "import matplotlib.pyplot as plt\n",
    "from mpl_toolkits.mplot3d import Axes3D\n",
    "%matplotlib inline\n",
    "\n",
    "np.random.seed(1)"
   ]
  },
  {
   "cell_type": "markdown",
   "metadata": {},
   "source": [
    "## Sample Grid Environment File\n",
    "\n",
    "Simple text file with three characters, 'O', 'H', and 'G'.\n",
    "- 'O': open space\n",
    "- 'H': Wall or obstacles\n",
    "- 'G': Goal location "
   ]
  },
  {
   "cell_type": "code",
   "execution_count": 4,
   "metadata": {},
   "outputs": [
    {
     "name": "stdout",
     "output_type": "stream",
     "text": [
      "OOOHOOOOO\n",
      "OOOHOOHOO\n",
      "OOOOOOHOO\n",
      "OOOOHHHOO\n",
      "OOHOOOOOH\n",
      "OOHOOGOOO\n",
      "OOOOOOOOO\n"
     ]
    }
   ],
   "source": [
    "file = open(\"grid.txt\", \"r\")\n",
    "data = file.read()\n",
    "print(data)"
   ]
  },
  {
   "cell_type": "code",
   "execution_count": 233,
   "metadata": {
    "collapsed": true
   },
   "outputs": [],
   "source": [
    "# maze example\n",
    "\n",
    "debug = False\n",
    "verbose = False\n",
    "\n",
    "\n",
    "class GridWorld:\n",
    "    \"\"\" Grid World environment\n",
    "            there are four actions (left, right, up, and down) to move an agent\n",
    "            In a grid, if it reaches a goal, it get 30 points of reward.\n",
    "            If it falls in a hole or moves out of the grid world, it gets -5.\n",
    "            Each step costs -1 point. \n",
    "\n",
    "        to test GridWorld, run the following sample codes:\n",
    "\n",
    "            env = GridWorld('grid.txt')\n",
    "\n",
    "            env.print_map()\n",
    "            print [2,3], env.check_state([2,3])\n",
    "            print [0,0], env.check_state([0,0])\n",
    "            print [3,4], env.check_state([3,4])\n",
    "            print [10,3], env.check_state([10,3])\n",
    "\n",
    "            env.init([0,0])\n",
    "            print env.next(1)  # right\n",
    "            print env.next(3)  # down\n",
    "            print env.next(0)  # left\n",
    "            print env.next(2)  # up\n",
    "            print env.next(2)  # up\n",
    "            \n",
    "            my change\n",
    "            ---------\n",
    "            \n",
    "            print env.next(0)  # left\n",
    "            print env.next(1)  # right\n",
    "            print env.next(2)  # up\n",
    "            print env.next(3)  # down\n",
    "\n",
    "        Parameters\n",
    "        ==========\n",
    "        _map        ndarray\n",
    "                    string array read from a file input\n",
    "        _size       1d array\n",
    "                    the size of _map in ndarray\n",
    "        goal_pos    tuple\n",
    "                    the index for the goal location\n",
    "        _actions    list\n",
    "                    list of actions for 4 actions\n",
    "        _s          1d array\n",
    "                    current state\n",
    "    \"\"\"\n",
    "    def __init__(self, fn):\n",
    "        # read a map from a file\n",
    "        self._map = self.read_map(fn)\n",
    "        self._size = np.asarray(self._map.shape)\n",
    "        self.goal_pos = np.where(self._map == 'G')\n",
    "\n",
    "        # definition of actions (left, right, up, and down repectively)\n",
    "        self._actions = [[0, -1], [0, 1], [-1, 0], [1, 0]]\n",
    "        self._s = None\n",
    "\n",
    "    def get_cur_state(self):\n",
    "        return self._s\n",
    "\n",
    "    def set_cur_state(self,s):\n",
    "        self._s=s\n",
    "    \n",
    "    def get_size(self):\n",
    "        return self._size\n",
    "\n",
    "    def read_map(self, fn):\n",
    "        grid = []\n",
    "        with open(fn) as f:\n",
    "            for line in f:\n",
    "               grid.append(list(line.strip()))\n",
    "        return np.asarray(grid)\n",
    "\n",
    "    def print_map(self):\n",
    "        print( self._map )\n",
    "    \n",
    "    def get_map(self):\n",
    "        return self._map \n",
    "        \n",
    "    def check_state(self, s):\n",
    "        if isinstance(s, collections.Iterable) and len(s) == 2:\n",
    "            if s[0] < 0 or s[1] < 0 or\\\n",
    "               s[0] >= self._size[0] or s[1] >= self._size[1]:\n",
    "               return 'N'\n",
    "            return self._map[tuple(s)].upper()\n",
    "        else:\n",
    "            return 'F'  # wrong input\n",
    "\n",
    "    def init(self, state=None):\n",
    "        if state is None:\n",
    "            s = [0, 0]\n",
    "        else:\n",
    "            s = state\n",
    "            \n",
    "        if self.check_state(s) == 'O':\n",
    "            #self._s = np.asarray(state)\n",
    "            self._s = np.asarray(s)\n",
    "        else:\n",
    "            raise ValueError(\"Invalid state for init\")\n",
    "        \n",
    "\n",
    "    def next(self, a):\n",
    "        s1 = self._s + self._actions[a]\n",
    "        # state transition\n",
    "        curr = self.check_state(s1)\n",
    "        \n",
    "        if curr == 'H' or curr == 'N':\n",
    "            return -5\n",
    "        elif curr == 'F':\n",
    "            warnings.warn(\"invalid state \" + str(s1))\n",
    "            return -5\n",
    "        elif curr == 'G':\n",
    "            self._s = s1\n",
    "            return 30\n",
    "        else:\n",
    "            self._s = s1\n",
    "            return -1\n",
    "        \n",
    "    #Method to check if the current state is a goal state\n",
    "    def goal_reached(self):\n",
    "        if(self._s is not None and self._s[0]==self.goal_pos[0] and self._s[1]==self.goal_pos[1]):\n",
    "            return True\n",
    "        else:\n",
    "            return False\n",
    "        \n",
    "    def get_actions(self):\n",
    "        return self._actions"
   ]
  },
  {
   "cell_type": "code",
   "execution_count": 226,
   "metadata": {},
   "outputs": [
    {
     "name": "stdout",
     "output_type": "stream",
     "text": [
      "[['O' 'O' 'O' 'H' 'O' 'O' 'O' 'O' 'O']\n",
      " ['O' 'O' 'O' 'H' 'O' 'O' 'H' 'O' 'O']\n",
      " ['O' 'O' 'O' 'O' 'O' 'O' 'H' 'O' 'O']\n",
      " ['O' 'O' 'O' 'O' 'H' 'H' 'H' 'O' 'O']\n",
      " ['O' 'O' 'H' 'O' 'O' 'O' 'O' 'O' 'H']\n",
      " ['O' 'O' 'H' 'O' 'O' 'G' 'O' 'O' 'O']\n",
      " ['O' 'O' 'O' 'O' 'O' 'O' 'O' 'O' 'O']]\n"
     ]
    }
   ],
   "source": [
    "env = GridWorld(\"grid.txt\")\n",
    "env.print_map()"
   ]
  },
  {
   "cell_type": "markdown",
   "metadata": {},
   "source": [
    "# III. Methods\n",
    "\n",
    "- Decide your TD learning approach: SARSA or Q-learning? \n",
    "- Describe your approach and the reason why you select it.\n",
    "- Add epsilon_greedy function and explain it.\n",
    "- Explain your codes."
   ]
  },
  {
   "cell_type": "markdown",
   "metadata": {},
   "source": [
    "### Tabular TD(0) "
   ]
  },
  {
   "cell_type": "code",
   "execution_count": 227,
   "metadata": {
    "collapsed": true
   },
   "outputs": [],
   "source": [
    "#Method to control probability of random action\n",
    "\n",
    "#This method will return true only with a given probaility \n",
    "\n",
    "def selectRandomAction(epsilon):\n",
    "    return np.random.uniform()<epsilon"
   ]
  },
  {
   "cell_type": "code",
   "execution_count": 228,
   "metadata": {
    "collapsed": true
   },
   "outputs": [],
   "source": [
    "#A method to get the values of v for a given state\n",
    "def get_Q(s,a):\n",
    "    return Q[s[0],s[1],a]\n",
    "\n",
    "#A method to set a V value for a given state\n",
    "def set_Q(s,a,q):\n",
    "    Q[s[0],s[1],a]=q\n"
   ]
  },
  {
   "cell_type": "markdown",
   "metadata": {},
   "source": [
    "### Method to plot the Rewards,Steps,Q values and path follwed"
   ]
  },
  {
   "cell_type": "code",
   "execution_count": 229,
   "metadata": {
    "collapsed": true
   },
   "outputs": [],
   "source": [
    "def plot_data(states,rewards,Q,steps):\n",
    "    x=[]\n",
    "    y=[]\n",
    "    z=[]\n",
    "    state_count=0\n",
    "    for state in states:\n",
    "        x.append(state[0])\n",
    "        y.append(state[1])\n",
    "        z.append(state_count)\n",
    "        state_count=state_count+1\n",
    "    \n",
    "   \n",
    "    f, ((ax1, ax2),(ax3,ax4))=plt.subplots(2, 2,figsize=(20,20))\n",
    "    \n",
    "    ax1.plot(rewards,marker='', color='blue')\n",
    "    ax1.set_title(\"Sum of rewards vs Epochs\")\n",
    "    \n",
    "    ax2.plot(steps,marker='', color='#1658a0')\n",
    "    ax2.set_title(\"Steps vs Epochs\")\n",
    "    \n",
    "    heatmap =ax3.imshow(Q, cmap='hot', interpolation='nearest')\n",
    "    ax3.set_title(\"Q values\")\n",
    "    ax3.grid(False)\n",
    "    \n",
    "    f.colorbar(heatmap,ax=ax3)\n",
    "    \n",
    "    ax4.plot(x,y,marker='o', color='black')\n",
    "    ax4.grid(True)\n",
    "    ax4.axis([0, 8, 6, 0])\n",
    "    title=\"Path to the goal(Total Steps=\"+str(len(states))+\")\"\n",
    "    ax4.set_title(title)\n",
    "    "
   ]
  },
  {
   "cell_type": "markdown",
   "metadata": {},
   "source": [
    "### Learning Model"
   ]
  },
  {
   "cell_type": "code",
   "execution_count": 230,
   "metadata": {},
   "outputs": [],
   "source": [
    "#import the keras library\n",
    "from keras.models import Sequential\n",
    "from keras.layers import Dense\n",
    "\n",
    "from sklearn.metrics import accuracy_score"
   ]
  },
  {
   "cell_type": "code",
   "execution_count": 231,
   "metadata": {},
   "outputs": [
    {
     "name": "stdout",
     "output_type": "stream",
     "text": [
      "Epoch 1/1\n",
      "\r",
      "1/1 [==============================] - 0s 5ms/step - loss: 168.5277\n"
     ]
    },
    {
     "data": {
      "text/plain": [
       "<keras.callbacks.History at 0x1cf9eb637b8>"
      ]
     },
     "execution_count": 231,
     "metadata": {},
     "output_type": "execute_result"
    }
   ],
   "source": [
    "#np.reshape(np.array([1,1]),(1,2)).shape\n",
    "#np.reshape(np.array([1,1,1,1]),(1,4))\n",
    "model.fit(np.reshape(np.array([1,1]),(1,2)),np.reshape(np.array([1,1,1,1]),(1,4)),epochs=1,batch_size=1,validation_data=None)"
   ]
  },
  {
   "cell_type": "code",
   "execution_count": null,
   "metadata": {
    "collapsed": true
   },
   "outputs": [],
   "source": [
    "class NNModel:\n",
    "    def __init__(self):\n",
    "        no_of_input_nodes=2\n",
    "        no_of_hl1_nodes=20\n",
    "        no_of_hl2_nodes=12\n",
    "        no_of_output_nodes=4\n",
    "        \n",
    "        self.model=Sequential([\n",
    "            Dense(input_dim=no_of_input_nodes,units=no_of_hl1_nodes,activation=\"relu\"),\n",
    "            Dense(input_dim=no_of_hl1_nodes,units=no_of_hl2_nodes,activation=\"relu\"),\n",
    "            Dense(input_dim=no_of_hl2_nodes,units=no_of_output_nodes,activation=\"linear\")\n",
    "        ])\n",
    "        self.model.compile(loss='mean_squared_error',optimizer='adam')\n",
    "        \n",
    "    def train(self,X,Y):\n",
    "        self.model.fit(X,Y,verbose=False)\n",
    "        \n",
    "    def predict(self,X):\n",
    "        return self.model.predict(X)"
   ]
  },
  {
   "cell_type": "code",
   "execution_count": 294,
   "metadata": {},
   "outputs": [
    {
     "data": {
      "text/plain": [
       "'def NNModel():\\n    no_of_input_nodes=2\\n    no_of_hl1_nodes=8\\n    no_of_hl2_nodes=6\\n    no_of_output_nodes=4\\n\\n\\n    model=Sequential([\\n        Dense(input_dim=no_of_input_nodes,units=no_of_hl1_nodes,activation=\"relu\"),\\n        Dense(input_dim=no_of_hl1_nodes,units=no_of_hl2_nodes,activation=\"relu\"),\\n        Dense(input_dim=no_of_hl2_nodes,units=no_of_output_nodes,activation=\"linear\")\\n    ])\\n\\n    model.compile(loss=\"mean_squared_error\",optimizer=\"adam\",)\\n\\n    return model\\n\\ndef getQValues(model,X):\\n    Q_values=model.predict(X)\\n    return Q_values\\n\\ndef trainModel(model,X,Y):\\n    epochs=1\\n    batch_size=1\\n    model.fit(X,Y,epochs=epochs,batch_size=batch_size,validation_data=None,verbose=False)'"
      ]
     },
     "execution_count": 294,
     "metadata": {},
     "output_type": "execute_result"
    }
   ],
   "source": [
    "'''def NNModel():\n",
    "    no_of_input_nodes=2\n",
    "    no_of_hl1_nodes=8\n",
    "    no_of_hl2_nodes=6\n",
    "    no_of_output_nodes=4\n",
    "\n",
    "\n",
    "    model=Sequential([\n",
    "        Dense(input_dim=no_of_input_nodes,units=no_of_hl1_nodes,activation=\"relu\"),\n",
    "        Dense(input_dim=no_of_hl1_nodes,units=no_of_hl2_nodes,activation=\"relu\"),\n",
    "        Dense(input_dim=no_of_hl2_nodes,units=no_of_output_nodes,activation=\"linear\")\n",
    "    ])\n",
    "\n",
    "    model.compile(loss=\"mean_squared_error\",optimizer=\"adam\",)\n",
    "\n",
    "    return model\n",
    "\n",
    "def getQValues(model,X):\n",
    "    Q_values=model.predict(X)\n",
    "    return Q_values\n",
    "\n",
    "def trainModel(model,X,Y):\n",
    "    epochs=1\n",
    "    batch_size=1\n",
    "    model.fit(X,Y,epochs=epochs,batch_size=batch_size,validation_data=None,verbose=False)'''"
   ]
  },
  {
   "cell_type": "code",
   "execution_count": 295,
   "metadata": {},
   "outputs": [],
   "source": [
    "#Method to choose action from a state s using the estimated Q values wit epsilon-greedy\n",
    "def epsilon_greedy_action(QValues,epsilon=0.01):\n",
    "    greedy_action=None\n",
    "    \n",
    "    #Need to work here\n",
    "    maxQ=np.max(QValues)\n",
    "    action=np.argmax(QValues)\n",
    "    \n",
    "    if(action!=0 or QValues[0][0]!=QValues[0][1]):\n",
    "        greedy_action=action;\n",
    "    \n",
    "    if(selectRandomAction(epsilon) or greedy_action==None):\n",
    "        random_action=np.random.randint(4)\n",
    "        greedy_action=random_action\n",
    "    \n",
    "    return maxQ,greedy_action"
   ]
  },
  {
   "cell_type": "markdown",
   "metadata": {},
   "source": [
    "### Create the data for the neural Network to learn"
   ]
  },
  {
   "cell_type": "code",
   "execution_count": 296,
   "metadata": {},
   "outputs": [],
   "source": [
    "#creat tabular data for each state action\n",
    "Q=np.zeros((env._size[0],env._size[1]))\n",
    "gamma=0.9\n",
    "data=[]\n",
    "output=[]\n",
    "map=env.get_map()\n",
    "actions=env.get_actions();"
   ]
  },
  {
   "cell_type": "code",
   "execution_count": 324,
   "metadata": {},
   "outputs": [],
   "source": [
    "import matplotlib.pyplot as plt\n",
    "%matplotlib inline\n",
    "#A method to learn best way to find the goal\n",
    "def learn_find_goal(env,learning_model,Q,epsilon,gamma):\n",
    "    steps=1;\n",
    "    states=[]\n",
    "    total_reward=0\n",
    "    current_state=env.get_cur_state()\n",
    "    actions=env.get_actions()\n",
    "    X=np.asarray(current_state).reshape((1,2))\n",
    "    current_state_actions_QValues=learning_model.predict(X)\n",
    "    maxQ,current_state_a=epsilon_greedy_action(current_state_actions_QValues)\n",
    "    #Add the cureent state to the path\n",
    "    while(not env.goal_reached()):\n",
    "        states.append(current_state)\n",
    "        reward=env.next(current_state_a)\n",
    "        next_state=env.get_cur_state()\n",
    "        \n",
    "        #print(current_state,current_state_a,reward,next_state,Q[current_state[0]][current_state[1]])\n",
    "        \n",
    "        X_next_state=np.asarray(next_state).reshape((1,2))\n",
    "        #get the Q values for the next state action pairs\n",
    "        next_state_actions_QValues=learning_model.predict(X_next_state)\n",
    "        \n",
    "        next_state_maxQ,next_state_a=epsilon_greedy_action(next_state_actions_QValues)\n",
    "        \n",
    "        new_Q=reward+gamma*next_state_maxQ\n",
    "        #update the current state q values for this action\n",
    "        current_state_actions_QValues[0][current_state_a]=new_Q\n",
    "        #in order to print the Q values\n",
    "        Q[current_state[0]][current_state[1]]=new_Q\n",
    "        \n",
    "        X_current_state=np.asarray(current_state).reshape((1,2))\n",
    "        Y_current_state=np.asarray(current_state_actions_QValues).reshape((1,4))\n",
    "        #fit the model using this new Q value for the current state\n",
    "        learning_model.train(X_current_state,Y_current_state)\n",
    "        \n",
    "        #update the state action pair and Q values of the next state actions\n",
    "        current_state=next_state\n",
    "        current_state_a=next_state_a\n",
    "        current_state_actions_QValues=next_state_actions_QValues\n",
    "        \n",
    "        total_reward+=reward\n",
    "        steps=steps+1\n",
    "        \n",
    "        if(steps%1000==0):\n",
    "            print(\"Number of steps Taken:\"+str(steps))\n",
    "        \n",
    "    states.append(env._s)\n",
    "    return states,total_reward"
   ]
  },
  {
   "cell_type": "markdown",
   "metadata": {},
   "source": [
    "## Training the agent"
   ]
  },
  {
   "cell_type": "code",
   "execution_count": 325,
   "metadata": {},
   "outputs": [
    {
     "data": {
      "text/plain": [
       "'initial_state=np.array([0,0])\\nenv.init(initial_state)\\nX=np.array(env._s).reshape((1,2))\\ngetQValues(model,X)'"
      ]
     },
     "execution_count": 325,
     "metadata": {},
     "output_type": "execute_result"
    }
   ],
   "source": [
    "'''initial_state=np.array([0,0])\n",
    "env.init(initial_state)\n",
    "X=np.array(env._s).reshape((1,2))\n",
    "getQValues(model,X)'''"
   ]
  },
  {
   "cell_type": "code",
   "execution_count": null,
   "metadata": {},
   "outputs": [
    {
     "name": "stdout",
     "output_type": "stream",
     "text": [
      "Learning\n",
      "Number of steps Taken:1000\n",
      "Number of steps Taken:2000\n",
      "Number of steps Taken:3000\n",
      "Number of steps Taken:4000\n",
      "Number of steps Taken:5000\n",
      "Number of steps Taken:6000\n",
      "Number of steps Taken:7000\n",
      "Number of steps Taken:8000\n"
     ]
    }
   ],
   "source": [
    "import time\n",
    "#initialize the Q's for each state\n",
    "initial_Q=np.random.randn(env._size[0],env._size[1])*0.01\n",
    "env.init()\n",
    "epoch_limit=100\n",
    "alpha=0.01\n",
    "gamma=0.9\n",
    "epsilon=0.03;\n",
    "print(\"Learning\")\n",
    "rewards=[]\n",
    "steps=np.zeros([epoch_limit+1,1])\n",
    "initial_state=[0,0]\n",
    "learning_model=NNModel()\n",
    "for epoch in range(1,epoch_limit+1):\n",
    "    epsilon=epsilon-0.03*epsilon\n",
    "    env.init(initial_state)\n",
    "    epoch_start_time=time.clock()\n",
    "    states_reward=learn_find_goal(env,learning_model,initial_Q,epsilon,gamma) #returns states and reward \n",
    "    states=states_reward[0]\n",
    "    rewards.append(states_reward[1])\n",
    "    steps[epoch]=len(states)\n",
    "    epoch_end_time=time.clock()\n",
    "    if(epoch%10==0):\n",
    "        print(\"Epoch \",epoch)\n",
    "    #plot_path(states)\n",
    "    #print(\"Epoch\",epoch,\"Took\",str(round((epoch_end_time-epoch_start_time)*1000,5)),\"ms\")\n",
    "        \n",
    "plot_data(states,rewards,Q,steps)"
   ]
  },
  {
   "cell_type": "markdown",
   "metadata": {},
   "source": [
    "# IV - Results\n",
    "\n",
    "- Describe the choice of your parameters for $\\gamma$, $\\alpha$, and $\\epsilon$. \n",
    "  - Run experiments to find good parameters\n",
    "  - Show the experimental outputs to show the process of your selection\n",
    "- Plot 4 plots (see the image): \n",
    "  - the sum of rewards per episode\n",
    "  - the number of steps per episode\n",
    "  - contour plot of Q \n",
    "  - the trajectory of solution by using the learned policy"
   ]
  },
  {
   "cell_type": "code",
   "execution_count": 16,
   "metadata": {},
   "outputs": [
    {
     "data": {
      "image/png": "[encoded data removed]",
      "text/plain": [
       "<matplotlib.figure.Figure at 0x108c3f390>"
      ]
     },
     "metadata": {},
     "output_type": "display_data"
    }
   ],
   "source": []
  },
  {
   "cell_type": "markdown",
   "metadata": {},
   "source": [
    "# V. Conclusions\n",
    "\n",
    "Discuss the challenges or somethat that you learned. \n",
    "If you have any suggestion about the assignment, you can write about it. "
   ]
  },
  {
   "cell_type": "markdown",
   "metadata": {},
   "source": [
    "# Extra Credit\n",
    "\n",
    "Completion of any one of these will give you one point of extra credit. \n",
    "\n",
    "1. Add an inverted zone where an agent control results in the opposite direction. \n",
    "   Show the results with the four plots. \n",
    "   \n",
    "2. Change the inverted zone to an odd zone that moves randomly. \n",
    "   Show the results with the four plots. "
   ]
  },
  {
   "cell_type": "markdown",
   "metadata": {},
   "source": [
    "## Grading\n",
    "\n",
    "We will test your notebook with an additional grid.txt file. Please make sure to test in different maze input files. \n",
    "\n",
    "points | | description\n",
    "--|--|:--\n",
    "5 | Overview| states the objective and the appraoch \n",
    "10 | Maze Problem | \n",
    " | 5| Includes description of maze problem\n",
    " | 5| Explains the GridWorld\n",
    "30 | Methods | \n",
    " | 5| Choice of TD learning and Reason\n",
    " | 5| Description of the approach (either SARSA or Q-Learning)\n",
    " | 5| epsilon greedy codes and explanation\n",
    " |10| Implementation of the selected approach\n",
    " | 5| explanation of the codes\n",
    "50 | Results \n",
    "| 5| Reports the selected parameters. \n",
    "|20| Experimental outputs that show the choice of parameters. How do you choose them? \n",
    "|20| 5 points per each plot\n",
    "| 5| reading and analysis of learning results and plots\n",
    "5 | Conclusions \n"
   ]
  }
 ],
 "metadata": {
  "kernelspec": {
   "display_name": "ds36",
   "language": "python",
   "name": "ds36"
  },
  "language_info": {
   "codemirror_mode": {
    "name": "ipython",
    "version": 3
   },
   "file_extension": ".py",
   "mimetype": "text/x-python",
   "name": "python",
   "nbconvert_exporter": "python",
   "pygments_lexer": "ipython3",
   "version": "3.6.3"
  }
 },
 "nbformat": 4,
 "nbformat_minor": 2
}
